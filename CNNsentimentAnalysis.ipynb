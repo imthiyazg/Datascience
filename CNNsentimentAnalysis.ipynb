{
  "nbformat": 4,
  "nbformat_minor": 0,
  "metadata": {
    "colab": {
      "provenance": [],
      "include_colab_link": true
    },
    "kernelspec": {
      "name": "python3",
      "display_name": "Python 3"
    },
    "language_info": {
      "name": "python"
    }
  },
  "cells": [
    {
      "cell_type": "markdown",
      "metadata": {
        "id": "view-in-github",
        "colab_type": "text"
      },
      "source": [
        "<a href=\"https://colab.research.google.com/github/imthiyazg/Datascience/blob/main/CNNsentimentAnalysis.ipynb\" target=\"_parent\"><img src=\"https://colab.research.google.com/assets/colab-badge.svg\" alt=\"Open In Colab\"/></a>"
      ]
    },
    {
      "cell_type": "markdown",
      "metadata": {
        "id": "noFiCasHBIZL"
      },
      "source": [
        "Coursework Option C \n",
        "\n",
        "SET09822 - Artificial Intelligence \n",
        "\n",
        "Name: - Gulam Rasool Imthiyaz Ahmed \n",
        "\n",
        "Graduation ID: -  40518428@live.napier.ac.uk "
      ]
    },
    {
      "cell_type": "markdown",
      "metadata": {
        "id": "VyndwYxLG5DX"
      },
      "source": [
        "Pandas for data loding and importing keras model sequential and layers"
      ]
    },
    {
      "cell_type": "code",
      "metadata": {
        "id": "u5W0a9XbL7TW"
      },
      "source": [
        "import pandas as pd\n",
        "from keras.models import Sequential\n",
        "from keras import layers"
      ],
      "execution_count": null,
      "outputs": []
    },
    {
      "cell_type": "markdown",
      "metadata": {
        "id": "EYP71PcQHKmS"
      },
      "source": [
        "mounting google drive to load the dataset"
      ]
    },
    {
      "cell_type": "code",
      "metadata": {
        "id": "2j6pZpjhT368",
        "colab": {
          "base_uri": "https://localhost:8080/"
        },
        "outputId": "e41d0a13-5d30-4aaf-876a-acef17c2b5ae"
      },
      "source": [
        "from google.colab import drive \n",
        "drive.mount('/content/gdrive')"
      ],
      "execution_count": null,
      "outputs": [
        {
          "output_type": "stream",
          "name": "stdout",
          "text": [
            "Mounted at /content/gdrive\n"
          ]
        }
      ]
    },
    {
      "cell_type": "markdown",
      "metadata": {
        "id": "qg4BE_esHagT"
      },
      "source": [
        "creating a path to each given dataset"
      ]
    },
    {
      "cell_type": "code",
      "metadata": {
        "id": "lSkE7I16T4x0",
        "colab": {
          "base_uri": "https://localhost:8080/"
        },
        "outputId": "32df743d-c6be-4556-faa5-6a89e5222ebf"
      },
      "source": [
        "# set local path where notebooks and data folders are located\n",
        "path = \"/content/gdrive/My Drive/DW_data/\"\n",
        "data_path_train = path + \"train.csv\"\n",
        "data_path_test= path+ \"test.csv\"\n",
        "data_path_val= path+ \"val.csv\"\n",
        "print(data_path_train)\n",
        "print(data_path_test)\n",
        "print (data_path_val)"
      ],
      "execution_count": null,
      "outputs": [
        {
          "output_type": "stream",
          "name": "stdout",
          "text": [
            "/content/gdrive/My Drive/DW_data/train.csv\n",
            "/content/gdrive/My Drive/DW_data/test.csv\n",
            "/content/gdrive/My Drive/DW_data/val.csv\n"
          ]
        }
      ]
    },
    {
      "cell_type": "markdown",
      "metadata": {
        "id": "Q4-xCWwjHk4k"
      },
      "source": [
        "converting datasets to 2 column data frames"
      ]
    },
    {
      "cell_type": "code",
      "metadata": {
        "id": "g7bukEIPL7TZ"
      },
      "source": [
        "#the data is saved as a dataframe with two column names: label and review\n",
        "df_train = pd.read_csv(data_path_train, names=['review', 'label'])\n",
        "df_test = pd.read_csv(data_path_test, names=['review', 'label'])\n",
        "df_val = pd.read_csv(data_path_val, names=['review', 'label'])"
      ],
      "execution_count": null,
      "outputs": []
    },
    {
      "cell_type": "code",
      "metadata": {
        "colab": {
          "base_uri": "https://localhost:8080/",
          "height": 419
        },
        "id": "dHhpwsMqIoJt",
        "outputId": "1ad98116-addf-4212-c9cc-a4261eda06c2"
      },
      "source": [
        "df_train"
      ],
      "execution_count": null,
      "outputs": [
        {
          "output_type": "execute_result",
          "data": {
            "text/html": [
              "<div>\n",
              "<style scoped>\n",
              "    .dataframe tbody tr th:only-of-type {\n",
              "        vertical-align: middle;\n",
              "    }\n",
              "\n",
              "    .dataframe tbody tr th {\n",
              "        vertical-align: top;\n",
              "    }\n",
              "\n",
              "    .dataframe thead th {\n",
              "        text-align: right;\n",
              "    }\n",
              "</style>\n",
              "<table border=\"1\" class=\"dataframe\">\n",
              "  <thead>\n",
              "    <tr style=\"text-align: right;\">\n",
              "      <th></th>\n",
              "      <th>review</th>\n",
              "      <th>label</th>\n",
              "    </tr>\n",
              "  </thead>\n",
              "  <tbody>\n",
              "    <tr>\n",
              "      <th>0</th>\n",
              "      <td>note : some may consider portions of the follo...</td>\n",
              "      <td>1</td>\n",
              "    </tr>\n",
              "    <tr>\n",
              "      <th>1</th>\n",
              "      <td>note : some may consider portions of the follo...</td>\n",
              "      <td>1</td>\n",
              "    </tr>\n",
              "    <tr>\n",
              "      <th>2</th>\n",
              "      <td>every once in a while you see a film that is s...</td>\n",
              "      <td>1</td>\n",
              "    </tr>\n",
              "    <tr>\n",
              "      <th>3</th>\n",
              "      <td>when i was growing up in 1970s , boys in my sc...</td>\n",
              "      <td>1</td>\n",
              "    </tr>\n",
              "    <tr>\n",
              "      <th>4</th>\n",
              "      <td>the muppet movie is the first , and the best m...</td>\n",
              "      <td>1</td>\n",
              "    </tr>\n",
              "    <tr>\n",
              "      <th>...</th>\n",
              "      <td>...</td>\n",
              "      <td>...</td>\n",
              "    </tr>\n",
              "    <tr>\n",
              "      <th>1395</th>\n",
              "      <td>it's been hours since i returned from the much...</td>\n",
              "      <td>0</td>\n",
              "    </tr>\n",
              "    <tr>\n",
              "      <th>1396</th>\n",
              "      <td>i'm not sure who the genius is who came up wit...</td>\n",
              "      <td>0</td>\n",
              "    </tr>\n",
              "    <tr>\n",
              "      <th>1397</th>\n",
              "      <td>the classic story &amp; the production which ruine...</td>\n",
              "      <td>0</td>\n",
              "    </tr>\n",
              "    <tr>\n",
              "      <th>1398</th>\n",
              "      <td>according to popular film opinion , a film's g...</td>\n",
              "      <td>0</td>\n",
              "    </tr>\n",
              "    <tr>\n",
              "      <th>1399</th>\n",
              "      <td>i still can't figure out why people went in dr...</td>\n",
              "      <td>0</td>\n",
              "    </tr>\n",
              "  </tbody>\n",
              "</table>\n",
              "<p>1400 rows × 2 columns</p>\n",
              "</div>"
            ],
            "text/plain": [
              "                                                 review  label\n",
              "0     note : some may consider portions of the follo...      1\n",
              "1     note : some may consider portions of the follo...      1\n",
              "2     every once in a while you see a film that is s...      1\n",
              "3     when i was growing up in 1970s , boys in my sc...      1\n",
              "4     the muppet movie is the first , and the best m...      1\n",
              "...                                                 ...    ...\n",
              "1395  it's been hours since i returned from the much...      0\n",
              "1396  i'm not sure who the genius is who came up wit...      0\n",
              "1397  the classic story & the production which ruine...      0\n",
              "1398  according to popular film opinion , a film's g...      0\n",
              "1399  i still can't figure out why people went in dr...      0\n",
              "\n",
              "[1400 rows x 2 columns]"
            ]
          },
          "metadata": {},
          "execution_count": 5
        }
      ]
    },
    {
      "cell_type": "code",
      "metadata": {
        "colab": {
          "base_uri": "https://localhost:8080/",
          "height": 419
        },
        "id": "FLzb1_IjIq-S",
        "outputId": "ebfd625a-c4e8-460e-fbb0-9aabf9954886"
      },
      "source": [
        "df_val"
      ],
      "execution_count": null,
      "outputs": [
        {
          "output_type": "execute_result",
          "data": {
            "text/html": [
              "<div>\n",
              "<style scoped>\n",
              "    .dataframe tbody tr th:only-of-type {\n",
              "        vertical-align: middle;\n",
              "    }\n",
              "\n",
              "    .dataframe tbody tr th {\n",
              "        vertical-align: top;\n",
              "    }\n",
              "\n",
              "    .dataframe thead th {\n",
              "        text-align: right;\n",
              "    }\n",
              "</style>\n",
              "<table border=\"1\" class=\"dataframe\">\n",
              "  <thead>\n",
              "    <tr style=\"text-align: right;\">\n",
              "      <th></th>\n",
              "      <th>review</th>\n",
              "      <th>label</th>\n",
              "    </tr>\n",
              "  </thead>\n",
              "  <tbody>\n",
              "    <tr>\n",
              "      <th>0</th>\n",
              "      <td>if he doesn=92t watch out , mel gibson is in d...</td>\n",
              "      <td>1</td>\n",
              "    </tr>\n",
              "    <tr>\n",
              "      <th>1</th>\n",
              "      <td>wong kar-wei's \" fallen angels \" is , on a pur...</td>\n",
              "      <td>1</td>\n",
              "    </tr>\n",
              "    <tr>\n",
              "      <th>2</th>\n",
              "      <td>there is nothing like american history x in th...</td>\n",
              "      <td>1</td>\n",
              "    </tr>\n",
              "    <tr>\n",
              "      <th>3</th>\n",
              "      <td>an unhappy italian housewife , a lonely waiter...</td>\n",
              "      <td>1</td>\n",
              "    </tr>\n",
              "    <tr>\n",
              "      <th>4</th>\n",
              "      <td>when people are talking about good old times ,...</td>\n",
              "      <td>1</td>\n",
              "    </tr>\n",
              "    <tr>\n",
              "      <th>...</th>\n",
              "      <td>...</td>\n",
              "      <td>...</td>\n",
              "    </tr>\n",
              "    <tr>\n",
              "      <th>195</th>\n",
              "      <td>tri-star ; rated r ( language , sexual situati...</td>\n",
              "      <td>0</td>\n",
              "    </tr>\n",
              "    <tr>\n",
              "      <th>196</th>\n",
              "      <td>fact that charles bronson represents one of th...</td>\n",
              "      <td>0</td>\n",
              "    </tr>\n",
              "    <tr>\n",
              "      <th>197</th>\n",
              "      <td>the above is dialogue from this film , taken a...</td>\n",
              "      <td>0</td>\n",
              "    </tr>\n",
              "    <tr>\n",
              "      <th>198</th>\n",
              "      <td>in the interest of being generous , i want to ...</td>\n",
              "      <td>0</td>\n",
              "    </tr>\n",
              "    <tr>\n",
              "      <th>199</th>\n",
              "      <td>the film may be called mercury rising , but th...</td>\n",
              "      <td>0</td>\n",
              "    </tr>\n",
              "  </tbody>\n",
              "</table>\n",
              "<p>200 rows × 2 columns</p>\n",
              "</div>"
            ],
            "text/plain": [
              "                                                review  label\n",
              "0    if he doesn=92t watch out , mel gibson is in d...      1\n",
              "1    wong kar-wei's \" fallen angels \" is , on a pur...      1\n",
              "2    there is nothing like american history x in th...      1\n",
              "3    an unhappy italian housewife , a lonely waiter...      1\n",
              "4    when people are talking about good old times ,...      1\n",
              "..                                                 ...    ...\n",
              "195  tri-star ; rated r ( language , sexual situati...      0\n",
              "196  fact that charles bronson represents one of th...      0\n",
              "197  the above is dialogue from this film , taken a...      0\n",
              "198  in the interest of being generous , i want to ...      0\n",
              "199  the film may be called mercury rising , but th...      0\n",
              "\n",
              "[200 rows x 2 columns]"
            ]
          },
          "metadata": {},
          "execution_count": 6
        }
      ]
    },
    {
      "cell_type": "code",
      "metadata": {
        "colab": {
          "base_uri": "https://localhost:8080/",
          "height": 419
        },
        "id": "33lAElreQAUF",
        "outputId": "79458715-5eae-4a52-8472-c4b4c9d0a22e"
      },
      "source": [
        "df_test"
      ],
      "execution_count": null,
      "outputs": [
        {
          "output_type": "execute_result",
          "data": {
            "text/html": [
              "<div>\n",
              "<style scoped>\n",
              "    .dataframe tbody tr th:only-of-type {\n",
              "        vertical-align: middle;\n",
              "    }\n",
              "\n",
              "    .dataframe tbody tr th {\n",
              "        vertical-align: top;\n",
              "    }\n",
              "\n",
              "    .dataframe thead th {\n",
              "        text-align: right;\n",
              "    }\n",
              "</style>\n",
              "<table border=\"1\" class=\"dataframe\">\n",
              "  <thead>\n",
              "    <tr style=\"text-align: right;\">\n",
              "      <th></th>\n",
              "      <th>review</th>\n",
              "      <th>label</th>\n",
              "    </tr>\n",
              "  </thead>\n",
              "  <tbody>\n",
              "    <tr>\n",
              "      <th>0</th>\n",
              "      <td>wild things is a suspenseful thriller starring...</td>\n",
              "      <td>1</td>\n",
              "    </tr>\n",
              "    <tr>\n",
              "      <th>1</th>\n",
              "      <td>i know it already opened in december , but i f...</td>\n",
              "      <td>1</td>\n",
              "    </tr>\n",
              "    <tr>\n",
              "      <th>2</th>\n",
              "      <td>what's shocking about \" carlito's way \" is how...</td>\n",
              "      <td>1</td>\n",
              "    </tr>\n",
              "    <tr>\n",
              "      <th>3</th>\n",
              "      <td>uncompromising french director robert bresson'...</td>\n",
              "      <td>1</td>\n",
              "    </tr>\n",
              "    <tr>\n",
              "      <th>4</th>\n",
              "      <td>aggressive , bleak , and unrelenting film abou...</td>\n",
              "      <td>1</td>\n",
              "    </tr>\n",
              "    <tr>\n",
              "      <th>...</th>\n",
              "      <td>...</td>\n",
              "      <td>...</td>\n",
              "    </tr>\n",
              "    <tr>\n",
              "      <th>395</th>\n",
              "      <td>it's always a bad sign when the core audience ...</td>\n",
              "      <td>0</td>\n",
              "    </tr>\n",
              "    <tr>\n",
              "      <th>396</th>\n",
              "      <td>synopsis : cro-magnon ayla loses her mother to...</td>\n",
              "      <td>0</td>\n",
              "    </tr>\n",
              "    <tr>\n",
              "      <th>397</th>\n",
              "      <td>\" battlefield earth \" is the best comedy of t...</td>\n",
              "      <td>0</td>\n",
              "    </tr>\n",
              "    <tr>\n",
              "      <th>398</th>\n",
              "      <td>birthdays often cause individuals to access th...</td>\n",
              "      <td>0</td>\n",
              "    </tr>\n",
              "    <tr>\n",
              "      <th>399</th>\n",
              "      <td>there're so many things to criticize about i d...</td>\n",
              "      <td>0</td>\n",
              "    </tr>\n",
              "  </tbody>\n",
              "</table>\n",
              "<p>400 rows × 2 columns</p>\n",
              "</div>"
            ],
            "text/plain": [
              "                                                review  label\n",
              "0    wild things is a suspenseful thriller starring...      1\n",
              "1    i know it already opened in december , but i f...      1\n",
              "2    what's shocking about \" carlito's way \" is how...      1\n",
              "3    uncompromising french director robert bresson'...      1\n",
              "4    aggressive , bleak , and unrelenting film abou...      1\n",
              "..                                                 ...    ...\n",
              "395  it's always a bad sign when the core audience ...      0\n",
              "396  synopsis : cro-magnon ayla loses her mother to...      0\n",
              "397   \" battlefield earth \" is the best comedy of t...      0\n",
              "398  birthdays often cause individuals to access th...      0\n",
              "399  there're so many things to criticize about i d...      0\n",
              "\n",
              "[400 rows x 2 columns]"
            ]
          },
          "metadata": {},
          "execution_count": 7
        }
      ]
    },
    {
      "cell_type": "markdown",
      "metadata": {
        "id": "mf7AYs1XHulq"
      },
      "source": [
        "appending train and val data sets in to one"
      ]
    },
    {
      "cell_type": "code",
      "metadata": {
        "id": "gGQ51I09LYpI"
      },
      "source": [
        "df=df_train.append(df_val)"
      ],
      "execution_count": null,
      "outputs": []
    },
    {
      "cell_type": "code",
      "metadata": {
        "colab": {
          "base_uri": "https://localhost:8080/",
          "height": 419
        },
        "id": "220hZvE6iDCS",
        "outputId": "c126d47d-8a74-4efd-acbc-265d95c5e152"
      },
      "source": [
        "df"
      ],
      "execution_count": null,
      "outputs": [
        {
          "output_type": "execute_result",
          "data": {
            "text/html": [
              "<div>\n",
              "<style scoped>\n",
              "    .dataframe tbody tr th:only-of-type {\n",
              "        vertical-align: middle;\n",
              "    }\n",
              "\n",
              "    .dataframe tbody tr th {\n",
              "        vertical-align: top;\n",
              "    }\n",
              "\n",
              "    .dataframe thead th {\n",
              "        text-align: right;\n",
              "    }\n",
              "</style>\n",
              "<table border=\"1\" class=\"dataframe\">\n",
              "  <thead>\n",
              "    <tr style=\"text-align: right;\">\n",
              "      <th></th>\n",
              "      <th>review</th>\n",
              "      <th>label</th>\n",
              "    </tr>\n",
              "  </thead>\n",
              "  <tbody>\n",
              "    <tr>\n",
              "      <th>0</th>\n",
              "      <td>note : some may consider portions of the follo...</td>\n",
              "      <td>1</td>\n",
              "    </tr>\n",
              "    <tr>\n",
              "      <th>1</th>\n",
              "      <td>note : some may consider portions of the follo...</td>\n",
              "      <td>1</td>\n",
              "    </tr>\n",
              "    <tr>\n",
              "      <th>2</th>\n",
              "      <td>every once in a while you see a film that is s...</td>\n",
              "      <td>1</td>\n",
              "    </tr>\n",
              "    <tr>\n",
              "      <th>3</th>\n",
              "      <td>when i was growing up in 1970s , boys in my sc...</td>\n",
              "      <td>1</td>\n",
              "    </tr>\n",
              "    <tr>\n",
              "      <th>4</th>\n",
              "      <td>the muppet movie is the first , and the best m...</td>\n",
              "      <td>1</td>\n",
              "    </tr>\n",
              "    <tr>\n",
              "      <th>...</th>\n",
              "      <td>...</td>\n",
              "      <td>...</td>\n",
              "    </tr>\n",
              "    <tr>\n",
              "      <th>195</th>\n",
              "      <td>tri-star ; rated r ( language , sexual situati...</td>\n",
              "      <td>0</td>\n",
              "    </tr>\n",
              "    <tr>\n",
              "      <th>196</th>\n",
              "      <td>fact that charles bronson represents one of th...</td>\n",
              "      <td>0</td>\n",
              "    </tr>\n",
              "    <tr>\n",
              "      <th>197</th>\n",
              "      <td>the above is dialogue from this film , taken a...</td>\n",
              "      <td>0</td>\n",
              "    </tr>\n",
              "    <tr>\n",
              "      <th>198</th>\n",
              "      <td>in the interest of being generous , i want to ...</td>\n",
              "      <td>0</td>\n",
              "    </tr>\n",
              "    <tr>\n",
              "      <th>199</th>\n",
              "      <td>the film may be called mercury rising , but th...</td>\n",
              "      <td>0</td>\n",
              "    </tr>\n",
              "  </tbody>\n",
              "</table>\n",
              "<p>1600 rows × 2 columns</p>\n",
              "</div>"
            ],
            "text/plain": [
              "                                                review  label\n",
              "0    note : some may consider portions of the follo...      1\n",
              "1    note : some may consider portions of the follo...      1\n",
              "2    every once in a while you see a film that is s...      1\n",
              "3    when i was growing up in 1970s , boys in my sc...      1\n",
              "4    the muppet movie is the first , and the best m...      1\n",
              "..                                                 ...    ...\n",
              "195  tri-star ; rated r ( language , sexual situati...      0\n",
              "196  fact that charles bronson represents one of th...      0\n",
              "197  the above is dialogue from this film , taken a...      0\n",
              "198  in the interest of being generous , i want to ...      0\n",
              "199  the film may be called mercury rising , but th...      0\n",
              "\n",
              "[1600 rows x 2 columns]"
            ]
          },
          "metadata": {},
          "execution_count": 79
        }
      ]
    },
    {
      "cell_type": "code",
      "metadata": {
        "colab": {
          "base_uri": "https://localhost:8080/"
        },
        "id": "RvCmk9iHigvb",
        "outputId": "74e7a1bf-7af5-4ae6-f542-2e044ee33c92"
      },
      "source": [
        "print(df.iloc[0])"
      ],
      "execution_count": null,
      "outputs": [
        {
          "output_type": "stream",
          "name": "stdout",
          "text": [
            "review    note : some may consider portions of the follo...\n",
            "label                                                     1\n",
            "Name: 0, dtype: object\n"
          ]
        }
      ]
    },
    {
      "cell_type": "markdown",
      "metadata": {
        "id": "sp2FrhNId0vy"
      },
      "source": [
        "Removing special characters from the text "
      ]
    },
    {
      "cell_type": "code",
      "metadata": {
        "id": "isJDqAeaDOvl"
      },
      "source": [
        "spec_chars = [\"!\",'\"',\"#\",\"%\",\"&\",\"'\",\"(\",\")\",\n",
        "              \"*\",\"+\",\",\",\"-\",\".\",\"/\",\":\",\";\",\"<\",\n",
        "              \"=\",\">\",\"?\",\"@\",\"[\",\"\\\\\",\"]\",\"^\",\"_\",\n",
        "              \"`\",\"{\",\"|\",\"}\",\"~\",\"–\"]\n",
        "for char in spec_chars:\n",
        " df['review'] = df['review'].str.replace(char, ' ')"
      ],
      "execution_count": null,
      "outputs": []
    },
    {
      "cell_type": "markdown",
      "metadata": {
        "id": "OUewOVm7eKoy"
      },
      "source": [
        "Removing double empty spaces from the text "
      ]
    },
    {
      "cell_type": "code",
      "metadata": {
        "id": "fSlz6JO1FpBV"
      },
      "source": [
        "df['review'] = df['review'].str.split().str.join(\" \")"
      ],
      "execution_count": null,
      "outputs": []
    },
    {
      "cell_type": "code",
      "metadata": {
        "id": "nQAfXZYIL7Tb"
      },
      "source": [
        "# We store the reviews and labels in two arrays as follows:\n",
        "reviews = df['review'].values\n",
        "labels = df['label'].values"
      ],
      "execution_count": null,
      "outputs": []
    },
    {
      "cell_type": "code",
      "metadata": {
        "colab": {
          "base_uri": "https://localhost:8080/"
        },
        "id": "HF66H9DZJidi",
        "outputId": "242f06e0-2aaa-4638-eec3-efe2f9b153d9"
      },
      "source": [
        "reviews"
      ],
      "execution_count": null,
      "outputs": [
        {
          "output_type": "execute_result",
          "data": {
            "text/plain": [
              "array(['note some may consider portions of the following text to be spoilers be forewarned it s startling to consider that it was only a few years ago that film distributors would worriedly rearrange their summer release schedules in order to give the annual disney animated feature juggernaut a wide berth the lion king had just cracked $300 million domestic in gross to become one of the most profitable ventures in film history continuing to build on a sturdy base left by prior flicks aladdin and beauty and the beast since then though disney s animated features have shown an unbroken string of diminishing returns with pocahontas the hunchback of notre dame and this year s hercules successively proving less and less potent with the once seemingly impregnable disney stranglehold on the market share suddenly looking mighty vulnerable and faced with their first serious competition in the animated film market from fox s anastasia disney has brought xmas home early by dusting off the feature which sparked the modern revival of feature animation the little mermaid while the animation for the film is as is typically the case for disney films unquestionably top notch the magic in the little mermaid is not its animation but the wonderful innocence of its story and its rousingly superb music the film s storyline is fairly straightforward young teen falls for handsome man father disapproves and assigns hapless chaperone to his daughter teen disobeys father and goes to desperate lengths to win her man except in this case the chaperone is a crab the teen is a young mermaid and the object of her desire is a human prince what makes the little mermaid so affecting and so emotionally resonant is the richness and charm of its characters and the sheer clarity and honest simplicity of their emotions from the moment mermaid ariel lays her eyes on prince eric she s resolutely smitten and she s such a pure and endearing character that one can t help but invest their heart with her this simple but touching love story coupled with a healthy dose of smart humour makes the little mermaid a remarkably captivating picture one of the interesting things about the little mermaid is something which now curiously dates it the voices cast for its motley crew of characters this film was produced just before the distracting concept of using celebrity voices became in vogue which started to a certain degree with beauty and the beast and was irrevocably exacerbated by robin williams much heralded turn in aladdin by the release of the lion king and henceforth the majority of characters in the animated films were voiced by celebrities while it s understandable that animated features lacking the name recognition or drawing power of disney say balto s use of kevin bacon and bridget fonda or even anastasia s showcasing of meg ryan and john cusack would be forced to turn to this strategy in order to hype their products it s unfortunate that even disney has embraced this policy do we really need to hear say demi moore as esmerelda in the hunchback of notre dame is the film s entertainment value really augmented by hearing a recognizable voice rather than a voice which best suits the role i m not exactly on the edge of my seat for eddie murphy in the upcoming mulan fortunately the performers who voice the characters in the little mermaid although perhaps more obscure are impeccably cast chief among them is jodi benson a 1992 tony nominee for her stage work in crazy for you who voices the film s heroine ariel to perfection with a wonderfully expressive speaking voice full of youthful vigor and gorgeous singing voice ms benson provides a most engaging anchor for the film she s the only reason i d even consider catching flubber similarly samuel e wright is terrific in the showy role of sebastian the weary guardian crab he easily milks his lovable character s comic moments for all they re worth and his rendering of two of the little mermaid s big tunes under the sea and kiss the girl have become the stuff of legend pat carrol is deliciously villainous and vampy as the evil sea witch ursula while kenneth mars booming voice conveys the stern yet affectionate authority of ariel s father king triton in large roles and small edie mcclurg as dotting busybody carlotta is ideal and rene auberjonois has great fun with his exuberant french chef the little mermaid is impeccably cast of course the little mermaid will probably be best remembered for its remarkable collection of songs composed by the songwriting team of alan menken music and howard ashman lyrics who had created little shop of horrors and would go on to compose beauty and the beast and aladdin for disney before mr ashman s untimely death not only are mr menken s tunes unbearably catchy but mr ashman s charming lyrics are fully integrated into the film s storyline so that the songs are a virtual extension of the character s dialogue and consequently work wonderfully within the context of the film mr menken s score for the film is equally top notch the sequence where eric voiced by christopher daniel barnes and ariel tour his kingdom in a horse drawn carriage becomes magical and wondrous with mr menken s fine score it appears that most people prefer the delightfully colourful production number for the calypso styled under the sea as joyfully crooned by mr wright which won the academy award and golden globe awards for best song indeed one of the many little joys in screening the film during its re release was listening to children scattered throughout the audience singing along with the tune but my favourite is ms benson s heartfelt rendition of the ballad part of your world an achingly beautiful tune of yearning and hope wonderfully lyricized by mr ashman which accompanied by the film s most dazzlingly polished animation sequence packs an emotional wallop which literally brought tears to my eyes during the song s reprise which builds to a crescendo with ariel arching on a rock as a wave crashes in the cumulative effect is nothing short of breathtaking and one becomes acutely aware that this single instance is one of the finest in animation history as of this writing november 1997 has come to an end as has disney s limited 17 day re release of the little mermaid there s no question that the primary motivation for if not the film s reissue itself at least its timing was to reinforce disney s dominance in the animation market and provide direct competition to fox s costly new upstart animation division and their first major venture anastasia in every respect the re release of the little mermaid appears to be a success the film s 1997 grosses have pushed its cumulative domestic gross over the magic $100 million mark the little mermaid proved to have remarkably strong drawing power for a film initially released only eight years ago and in many homes on video pulling in close to $10 million in its opening weekend and although nobody could possibly expect the little mermaid to possibly defeat the aggressively marketed anastasia in head to head competition it siphoned enough from the fox film s opening weekend totals to keep anastasia from the coveted weekend leader spot allowing for disney s odious flubber to sweep in on the subsequent week and wrestle the family demographic market share away but although disney s motives in the reissue of the little mermaid were self serving and protectionist the real winner is the public any reason to put this film back into theatres is a good one and it s a true joy to see this heartwarming gem back on the silver screen the little mermaid is the best film to come out of the disney s modern animation renaissance and one of the greatest animated films ever made',\n",
              "       'note some may consider portions of the following text to be spoilers be forewarned among my fanatical ticker tape worshipping friends there s one who happens to share the same philosophy espoused by the central character in darren aronofsky s darkly original pi the entire stock market can be reduced to nothing but a series of patterns which through analysis will produce information to accurately forecast future behaviour an example of the mentality involved if the stock price goes up like this and then down like that and then sharply up this way it then will go this way while i freely admit that i know less than nothing about the market knowledge check prices up good prices down bad most of the time at least and hence really couldn t comment with any authority it s always nonetheless struck me as an incredibly naive oversimplification of an astonishingly complex system and besides if it were that simple no doubt somebody would ve already figured it all out the difference in this case is that while my colleague an otherwise assuredly realistic individual truly believes in this in and of itself as a valid forecaster pi uses this ideology as a device with which to investigate its character s psychosis it s also vastly more convincing with its argument mathematics is the language of the universe insists genius protagonist maximillian cohen sean gullette in a cool mantra like voice over which repeats throughout the picture since nature can be expressed in numbers and there are patterns everywhere in nature he reasons with eminent logic that finding the patterns will allow him to predict anything the ups and downs of the stock market how many games the yankees will win this year the flavour of jam i m going to put on my toast tomorrow morning obsessed with finding the proverbial key to the universe max lives in paranoid self imposed solitude in a seedy nyc chinatown apartment single mindedly toiling away with his monstrous homemade computer system sullenly withdrawn and plauged by debilitating migraines the elusive pursuit of a mysterious 216 digit number his machine spits out one day is driving him into madness the story then is basically an eccentricity but it s a clever astute eccentricity perceptively zeroing in on the modern mistrust of mathematical reductionism in an age where a dominant societal phobia is one s individualism being replaced by a series of numeric identifiers max s all consuming penchent for numbers at once creates a lingering unsettling mood it helps matters that he s not a particularly likable protagonist all attempts of friendliness from neighbours are curtly rebuffed by max a spindly neurotic looking individual who hasn t the time to indulge in pleasantries for a film which puts its lead character front and center mr gullette appears in virtually every scene pi takes a refreshing and effective approach in avoiding conventional aesthetics because of our ambivalence with max we re not so much avidly rooting for him to triumph with a moment of epiphany as we re following him through this plot with a sense of mixed dread and morbid fascination it s more disturbing journey than quest still we do care about max s fate teetering on the edge of dementia he winds up being pursued by two different groups which want to pick his brain both fronted by deliciously perky resolutely cheerful representatives with inevitably duplictious intentions as we know in films where paranoia is a dominant element see the truman show s laura linney character or for that matter in real life it s always the ones who never stop smiling at you and are overly friendly that are the ones of which to be wary pi a film that addresses patterns itself intentionally adheres to an identifiable pattern cycle headache scene important revelation or bit of plot development pill popping montage hallucinatory nightmare with decidedly cronenberg esque undertones few other directors are as equally adept in bridging unsettling concepts and body themed horror nosebleeding reality the repetitiveness far from being tedious is effectively maddening more than anything the picture aims to get under our skins and take in events from max s claustrophobic perspective in this regard it wildly succeeds due to mr aronofsky s striking direction it s a rarity that a film so completely immerses itself into a protagonist s warped perspective of his surrounding and high contrast black and white cinematography combined with constant usage of extreme close ups lend a heightened sense of paranoia to the proceedings in some scenes the stark composition in conjunction with the lumbering approach by mr gullette make his character curiously resemble a latter day max schreck from nosferatu using savage jittery lensing and rapid cuts to create a sense of disorientation the picture is often dizzying to behold and max s effective isolationism is emphasized by shots from the so called snorri cam which keep him in plain focus while the environment races by in blurred bursts pi s raw aggressive visuals are reminiscent of david lynch s early work in particular eraserhead the film s sinister tone splashes onto the screen immediately with a dazzling opening credit sequence ably backed by a sly electronic score by clint mansell and gradually increases in intensity still amidst all its kafkaesque qualities and overall dispassionate mood pi does occasionally display a sense of humour at one point marcy dawson pamela hart great fun entices max with the offer of an invaluable treasure a one of a kind computer chip isn t it beautiful she coos a showcase for mr aronofsky s technical virtuosity made for $60 000 it s since gone on to capture acclaim at the 1998 sundance film festival pi is an intriguingly cerebral story which ironically is perhaps the most purely visceral film of the year',\n",
              "       'every once in a while you see a film that is so effective in delivering the goods that it is easy to forget and forgive its glaring imperfections such is the case with good will hunting a subtle character study about a socially inept mathematics genius who struggles to find his path in life despite some serious character problems this is still a very good film you probably know about the plot so i ll make it quick will hunting damon is a janitor at m i t he s really smarter than einstein but nobody knows it he likes to go out with his friend chuckie affleck and their other working class buddies and drink beer he s good looking charismatic and witty but has a terrible time with authority and stiff college folk after getting into a tiff with the law a distinguished professor skarsg rd discovers will s genius and offers him a chance to clean up his record and avoid jail time at a price he must attend weekly sessions with a therapist and work on various mathematical problems that have stumped the academic elite with the professor after outsmarting and scaring the hell out of a couple of different psychologists he meets his match when hooked up with a once promising therapist named sean maguire williams who has his own problems in the meantime will meets a british medical school student driver and they begin to fall in love the story starts out well enough and is a pretty original basis for a film even though we ve seen movies about misunderstood erratic prodigies before shine ring a bell the script here creates a complex narrative that doesn t just focus solely on one character alas though this is not a perfect film as much as you feel like it could ve been while watching it the one real problem i had with it is the unrealistic nature of the main character is it possible for a lowly janitor to be this intelligent of course is it possible for him to be estranged from any deep human relationships usually yes but is it possible for him to also be so handsome funny quick with the tongue and city street tough not very likely come on usually these guys are total nerds who can t even buy their own shirts much less talk down a harvard student in a hip pub while picking up phone numbers from pretty med school girls will is just a little too perfect and in order to accept the character your disbelief suspension needs to be in excellent working condition the heavy handed anti war statement made by will at a government job interview late in the film is also boorish overlong pompous and completely unnecessary all this sounds pretty bad but the film somehow makes up for it in other ways damon s acting overshadows the fact that the character is slightly unbelievable his performance is truly extraordinary which leads me to the really good part of the review the strength of this movie can be summed up in one single word acting i can t recall seeing a film recently that was so well acted from top to bottom from minnie driver s frustrated lover to ben affleck s laid back best friend and all the small roles in between the performances are magnificent robin williams skill is a given as a bereaved psychologist who could ve had a legendary career but was knocked off the path somewhere down the line the real gem though is stellan skarsg rd s turn as professor lambeau an award winning mathematician who feels reduced in comparison to a younger smarter will hunting the scenes between williams and skarsg rd as two old college pals who ve been brought back together by this enigmatic kid display some of the best acting i ve ever seen when i say delivering the goods this is what i m talking about watching these two work is what going to see movies is all about gus van sant s to die for drugstore cowboy cold urban direction is right on as well as danny elfman s sauntering musical score i highly recommend good will hunting despite its faults it is still an intriguing and fascinating film and you are not likely to see a better acted one this year',\n",
              "       ...,\n",
              "       'the above is dialogue from this film taken almost completely in context and not jazzed up a bit to make it more inept than it is it is spoken between two of the protagonists somewhere in the film and basically serves as a perfect example of what this film is about especially if you realize that this exchange is meant to be taken seriously mr gregg i m having a mid life crisis araki the writer and director of this film wants to show how important teenagers are and wants to show how they feel in such a horrible horrible world and how does he show it by really cheap surrealism and moronic exchanges like this oh and it gets better a similar bit of dialogue is said in the middle of oh i dunno the fiftieth sex scene in this film i m not counting the several masturbation scenes in it one of the protagonists is humping away on top of another and he says to her something along the lines of do you ever wonder what life is all about sorry man foreplay takes place before the act of coitus of course what do you expect the film was written and directed by a guy who can t even spell his first name right yes i know it s a cheap joke but it had to be done the doom generation is advertised as a road trip movie about people who go around killing others who attack them and also as another teen angst film one of the slogans is teen is a four letter word hardy har har it s a film about two angsty teens amy blue rose macgowan who would later play the buxom tatum in scream and jordon white james duval who would go on to play randy quaid s son in independence day who pick up an angsty homicidal maniac xavier red jonathan schaech who would go on to play the angsty lead guitarist in that thing you do and by the way do you get the symbolism red white and blue huh huh and go on a road trip where three things happen in no order 1 they have sex 2 they run into weird people 3 they kill them the film is basically a remix of a bunch of other far superior films gregg araki obviously has seen such films as easy rider natural born killers and kalifornia and tries to borrow elements from all these films and make something which is like a pop culture reference guide but what he forgets is these films either represented something that this film does not or that they dug deep into their subjects and brought something out of them to make them deeper the doom generation doesn t want to do this it just wants to show everything in a surreal manner for the sole reason that araki does not want to deal with them on any kind of real level he wants to show everything in a weird manner and forgets what the scenes are supposed to be about here s one scene an earlier scene in the film amy and jordan go into a quick e mart type place to get food and other stuff amy is smoking and the clerk an asian man mind you i love how racist this film is i really do tells her to put it out she tells him to fuck off or something to that note he points a shotgun at her and she puts it out reluctantly jordan makes two hot dogs and takes them to the counter the cash register rings up 6 66 oh and this symbolism doesn t stop here jordan checks for his wallet but it s really in the car he asks amy for it but she left her wallet in the car as well the clerk brings out his shotgun again and asks for the money they say they don t have it he gets ready to kill them but then xavier who they ditched in the middle of nowhere a scene before pops out of nowhere fights with the clerk and ends with him blowing the clerk s head clean off clean wound mind you the head is shown flying through the air and lands in a fryer where it begins to scream i don t really object to this kind of sick violence but this scene is in the film for one reason and one reason only to gross you out araki thinks that if he takes everything to the extreme he ll make some kind of art wrong it takes a kind of resistance to make gore art when george romero made dawn of the dead a very gory flick even for today he had control over everything and still was able to make everything sick same goes for peter jackson s disgustingly gory dead alive which features a 30 minute long fest of blood guts dismemberments flesh chewing and other assorted stuff all ending with a guy with a lawn mower strapped to his body taking out all sorts of zombies it was sick but it was also satirical and controled a scene like this has no purpose in the film and it sticks out from everything else that happens here s a couple other scenes jordan and amy have sex in a bath tub and xavier watches masturbates and then licks the semen from his hand xavier and amy have sex and jordan watches from the window masturbates and falls backwards a man attacks the trio and is stabbed in the crotch by a giant sword put there just so this could happen a fast food employee stalks the trio and his arm is shot off by xavier and various other annoyances also look for about a million camoes from a wide assortment of people who probably didn t really know what they were getting into when they signed up to do it just like peter o toole helen mirren malcolm macdowell and john gielgud probably didn t when they signed to be in caligula people such as indie actors parker posey and nicky katt alternative rock stars skinny puppy and perry farrel hollywood madam heidi fleiss christopher peter brady mcknight amanda bearse and margaret cho all grace the screen for a matter of seconds then disappear so that we can return to the annoying main plot line why are they here so that we can all point to them and say hey look it s fill in the blank wow gimme a break the film s meaning is pretty easy to detect that you know teens are so precious and the world is such a horrible place that when the two entities collide there s a giant explosion of horrific violence otherwise defined as teen angst or the belief that being a teenager is a horrible thing and that the world is too bad for you look i m 19 years old i went through a very brief teen angst thing which curiously lasted about as long as my taste in nirvana did i ve since moved on to i don t really know what to do with my life phase but the teen angst phase is something which is so annoyingly sophomoric and ignorant that any film that thinks they re dealing with it on any kind of serious level is just beating the wrong horse part of being a teen is experimenting and testing the waters it s not whining about how awful parents are and purposely feeling dispondent this is what the characters in this film do and the film wants to show how they re these great people who are being punished by the world because they re teenagers and how they try to defend themselves but can t totally overcome them it s not their fault they kill people it s the world s what they really need is a reality check the world is a bad place and teenagers can be easily harmed because they are experimenting but part of it is taking everything that happens to you and learning from it the film thinks that teenagers are basically doomed and there s nothing they can do about it hence the title not only does it have bad fallacy but it can t even express this in an intelligent and coherent manner everything s overly surreal and all we get are scenes of graphic violence and graphic sex how does xavier licking semen off his hand express teen angst how does a talking decapitated head show that teens are dispondent because the world makes them this way and why does the film constantly go back to the teen angst issue of the film if araki had any kind of competence in writing or direction he d show them for what they really are and if he didn t want the satirical approach he d show the real problems with the world and if you still don t think that the doom generation is incompetent on every single possible level it could be take the acting rose macgowan is horrible yes she proved herself talented in scream but she s so bad in the doom generation that if i had not seen her in scream i would have christened her one of the worst actresses working in films today her entire performance is one note bitchy and the one scene where she cries over a dead animal is so forced that it s laughable equally bad is jonathan schaech who wants to be the slacker serial killer someone who doesn t have any remorse because emotions cause some kind of strain his performance is annoying as hell and granted he was better in that thing you do and then there s james duval let s just say he makes keanu reeves look like brando he has the same kind of slacker stuttering only much much much worse and every line he says is so bad that i have now deemed him least talented actor in the world i have seen lots of bad actors but james duval has got to be the worst or at least somewhere up there here s another example of a bad scene if you re still not convinced the film opens up in a club where they re playing nine inch nail s most banal song heresy example of the lines god is dead and no one cares if there is a hell i ll see you there and as the song plays and red strobe lights show the patrons dancing the film pans over to amy just standing there looking dispondent the film closes in on her she looks right at the camera and says fuck no explanation of this should be necessary and finally a note to gregg grow up really move out of your parent s basement read something other than salinger and get a day job and don t quit it',\n",
              "       'in the interest of being generous i want to start this review with the scene that i liked in meet joe black sir anthony hopkins playing a super rich media mogul has gathered his family around him for dinner his oldest daughter played by marcia gay harden from millers crossing who has been obsessively planning his sinfully extravagant birthday party presents him with three superbly decorated little cakes which are supposed to be scale models for his big birthday cake the daughter asks hopkins to pick the one he likes hopkins frustrated by the weight of planning for the whole elaborate affair does what any man in his position would do he punts whichever one you like dear he says and the daughter does exactly what any woman in her position would do she cries i liked that scene for two reasons first the cakes looked really cool second it was perhaps the only scene in the movie where people acted as you would expect people to act meet joe black is chock full of odd performances people doing things for no discernible reason at all and doing them in slow motion over the course of three hours to boot it s easy to watch meet joe black for the abundant eye candy of the palatial homes and the beauteous claire forlani but it s even easier to sleep right through it two people on my row managed it quite nicely the difficult part of the movie is understanding the characters and their motivations and why someone thought three hours was an appropriate length for this overwrought mess i know my audience had problems with the movie because they thought it was a comedy case in point everyone should know by now that brad pitt plays the angel of death in this movie however the first we see of him is as a young lawyer in a coffee shop hitting on the glamorous claire forlani it s not clear from the movie whether you need a law degree to become the angel of death but it makes a certain kind of sense it shouldn t take long for the observant moviegoer to realize that bad things are about to happen to mr pitt and indeed they do after a hideously prolonged sequence where pitt looks over his shoulder at the retreating forlani and forlani looks over her shoulder at the retreating pitt because pitt walks into the road without looking and suddenly gets squished well when that happened the audience howled with laughter and continued to laugh at every comment that was remotely humorous so if you think that sudden violent death and sarcastic drawing room humor are funny i encourage you to go see meet joe black immediately anyway the deceased lawyer s body no worse the wear from its massive injuries is possessed by the angel of death and brad pitt takes over that role the idea is that death given the pen name of joe black so as not to disturb others wants to take a holiday and experience the world if this weren t hollywood we might get an interesting metaphysical discussion of life and death but since it is we get scene after scene of fish out of water humor just as if death is george of the jungle or crocodile dundee or some other poor schmuck who s wandered in from the jungle or the outback or whatever and doesn t know how to act in our society it also doesn t help that the character of death is written so inconsistently he claims to be on vacation but he never does anything except hang around the seriously attractive claire forlani just try to get your travel agent to book that one he speaks very slow and halting english but perfectly fluent jamaican patois he knows everything about some characters nothing about others and as played by brad pitt he s not especially menacing or charming or glamorous or intriguing he s just there it s as if someone told pitt never mind about acting in this picture son just stand there and look pretty it s as if pitt is doing his keanu reeves impression throughout the movie i ve used the phrase angel of death in this review very deliberately to contrast pitt s performance with this year s best angel performance nicolas cage s in city of angels where pitt is cold and unfeeling cage is as warm and empathetic as the situation allows where cage is genuinely curious about the nature of man pitt is aloof and arrogant cage struck instant chemical sparks with co star meg ryan where the chemistry between pitt and forlani is only understandable if you accept the notion that forlani s character is so shallow that she can t see beyond pitt s good looks the movie s other top name is a much better actor but that doesn t save meet joe black sir anthony hopkins isn t given much better material to work with unfortunately he plays one of these good hearted multimillionaire media moguls that only exist in hollywood one wonders what might have happened if they had made hopkins s character more realistically evil hopkins is marked for death due to a bad ticker but death steps in and grants him some extra time in exchange for being his guide in the world of course no one can be sure of how they will act when death taps on their shoulder but i have to wonder and in this movie you have a very long time to wonder how you or i would act in a similar situation especially if you or i were a multimillionaire hopkins pretty much goes to the office and the major subplot revolves around who will control the corporation fans of corporate intrigue will be fascinated i m sure i stayed awake all the way through meet joe black and i m asking myself why movies about death should encourage you to live life to the fullest which is what i m going to do now go spend time with your family go volunteer for a local charity heck go take a nap don t go see meet joe black because all it will do is move you three long hours closer to death curtis edmonds no children have ever meddled with the republican party and lived to tell about it sideshow bob',\n",
              "       'the film may be called mercury rising but that title doesn t describe the trajectory taken by this motion picture a routine thriller that combines government cover ups with a cloying and poorly motivated buddy story the hook that is supposed to make mercury rising unique is that the young protagonist is autistic however aside from giving actor miko hughes a chance to win raves for his performance this particular aspect of the film comes across as nothing more than a convenient plot device those expecting to see even a semi thorough exploration of the condition will be disappointed mercury rising treats autism with the same degree of efficiency that many action thrillers accord to alcoholism the script for mercury rising is exceptionally tiresome and hard to swallow i don t know whether the problem is in the original book simple simon or in the screenplay adaptation but this movie easily exceeds the intangible threshold beyond which a suspension of disbelief is no longer possible once again certain standby plot elements the high level government conspiracy and the maverick law enforcement agent are recycled and not to good effect while bruce willis can play the action hero as well as anyone in hollywood this particular outing leaves him marooned in situations that are characterized by too little tension and too much nonsense the story begins with a formulaic sequence in which the tough fbi agent with a heart of gold art jeffries bruce willis is confronted with his own failure unable to resolve a hostage crisis in time he is forced to observe as two teenagers are shot to death the event weighs heavily on his conscience and heavy handedly establishes his motivation for protecting 9 year old simon lynch miko hughes when he discovers the autistic child hiding in a closet after his parents have been gunned down by the evil hit man who looks like an ex football player soon art and simon are on the run from seemingly everyone fleeing for their lives and bonding at the same time with the evil hit man who looks like an ex football player always just a step behind them along the way they are helped by the best friend who defies orders to help out his buddy chi mcbride and the supporting female who may or may not become a love interest kim dickens why is simon in danger and why were his parents turned into swiss cheese by the evil hit man who looks like an ex football player apparently the government has spent millions of dollars developing an ultra secret code called mercury to make sure it can t be cracked they do the most intuitive thing possible place a sample of it in a nerds puzzle magazine of course no one can solve it no one except autistic simon that is when he calls the phone number listed in the solution he gets the nsa as a result the cold hearted sneering government man alec baldwin decides that simon has to be eliminated for the good of the country of course but he hasn t counted on the tough fbi agent with a heart of gold even though everyone in the audience has it s hard to get worked up about a routine thriller that doesn t do anything exceptionally well and does quite a few things rather poorly for those who are desperate to find elements of this movie to like mercury rising manages to manufacture tension from time to time but even the most exciting scenes such as the one where art and simon are crouched down avoiding passing trains aren t that pulse pounding the climactic struggle is a real ho hum affair which leads to a finale that is painful in its obviousness overall director harold becker is constantly struggling and failing to generate even a moment that isn t derivative or obligatory bruce willis star seems to be fading this is his fourth straight lackluster outing following last man standing the fifth element and the jackal willis isn t terrible but this is the kind of role he can sleepwalk through and often does alec baldwin combining elements of his characters from glengarry glenn ross and malice does some scenery chewing but his performance is surprisingly lacking in menace the film s real star is young miko hughes heather langenkamp s son in wes craven s new nightmare who does as good a job as dustin hoffman playing an autistic individual but is about 50 years younger mercury rising joins the likes of hard rain the replacement killers and u s marshals on the heap of pallid 1998 thrillers for those who like action and adventure in the theater this has not been a good year hopefully the advent of summer will change that until then the best choices for bruce willis or any other action hero are on video and if you re determined to see mercury rising check out the morning sky in early may'],\n",
              "      dtype=object)"
            ]
          },
          "metadata": {},
          "execution_count": 14
        }
      ]
    },
    {
      "cell_type": "code",
      "metadata": {
        "colab": {
          "base_uri": "https://localhost:8080/"
        },
        "id": "dNLD0XpdJnXi",
        "outputId": "bdc31fce-ef7e-4971-80c6-a1e24b94025e"
      },
      "source": [
        "labels"
      ],
      "execution_count": null,
      "outputs": [
        {
          "output_type": "execute_result",
          "data": {
            "text/plain": [
              "array([1, 1, 1, ..., 0, 0, 0])"
            ]
          },
          "metadata": {},
          "execution_count": 15
        }
      ]
    },
    {
      "cell_type": "markdown",
      "metadata": {
        "id": "2nid6Nz3eaMi"
      },
      "source": [
        "Split data for testing and validation"
      ]
    },
    {
      "cell_type": "code",
      "metadata": {
        "id": "QYIy4UVEL7Tc"
      },
      "source": [
        "from sklearn.model_selection import train_test_split\n",
        "\n",
        "reviews_train, reviews_test, y_train, y_test = train_test_split(reviews, labels, test_size=0.22)"
      ],
      "execution_count": null,
      "outputs": []
    },
    {
      "cell_type": "markdown",
      "metadata": {
        "id": "O_8fh2Y0GoGT"
      },
      "source": [
        "Using tokenizer karas API for word embeddings"
      ]
    },
    {
      "cell_type": "code",
      "metadata": {
        "id": "EyERb-E3L7Tf"
      },
      "source": [
        "from keras.preprocessing.text import Tokenizer"
      ],
      "execution_count": null,
      "outputs": []
    },
    {
      "cell_type": "code",
      "metadata": {
        "colab": {
          "base_uri": "https://localhost:8080/"
        },
        "id": "h9SF4zemL7Tf",
        "outputId": "cf5678f3-18c6-4837-a2cc-2784895cdf0c"
      },
      "source": [
        "#defining the tokenizer\n",
        "tokenizer = Tokenizer(num_words=3000) # num_words most  frequent words is returned\n",
        "\n",
        "#perform tokenisation only on the training data!\n",
        "tokenizer.fit_on_texts(reviews_train)\n",
        "\n",
        "X_train = tokenizer.texts_to_sequences(reviews_train)\n",
        "X_test = tokenizer.texts_to_sequences(reviews_test)\n",
        "\n",
        "vocab_size = len(tokenizer.word_index) + 1  # Adding 1 because of reserved 0 index\n",
        "\n",
        "print(reviews_train[0])\n",
        "print(X_train[0])\n",
        "vocab_size"
      ],
      "execution_count": null,
      "outputs": [
        {
          "output_type": "stream",
          "name": "stdout",
          "text": [
            "traffic violation dr daniel s review of u turn dr d s rating critical condition okay here s the deal i ll be the first one to grant that everybody needs a day off now and then i ll even go so far as to say that a vacation is a necessary part of doing any job well i mean hey i ve been known to stretch a weekend into a three day outing if friday looks to be a slow day and if monday ain t looking like a pick me up well i ve been known to give martha nell a call and say do me a favor sweetheart bump old man ferguson s boil lancing to tuesday morning and tell miss audrey that i ll swing by her house monday evening and see if we can t get her trick knee back in line a simple sentence like that and i ve got a nice four day fishing trip with the boys or more often than not a trip up to cherokee n c for jackpot bingo and assorted other mountain funnery but the point is if you take a day off do something different if you ve worked yourself silly for months relax a bit sleep in eat pancakes at noon microwave an egg in its shell watch pro wrestling with the sound off listen to some barry white records at high speed whatever but do not under any circumstances spend your vacation doing the same thing you do for a living and if you do don t make the final product look ten times worse than it would any other time because i do not want to hear your sob stories oliver stone you apparently thought you needed a break from making important films cool so you found this hinky little book and decided to make it a movie that s cool too but ollie old sage do not take a good story and a hot cast and make one of the most pointless and worthless films of the decade i m just eager to meet you one day so i can buy you a stoli look you in the eye and say what in the wide world of sports were you thinking with u turn and i ll stand there staring til i get a straight answer sean penn stars u turn as bobby a drifter who s had some troubles a while back he s heading cross the desert minus two fingers when his mustang ragtop blows a radiator hose stranding him in superior arizona held there by an ignorant inbred turtleneck hick of a mechanic named darrell while darrell puts a new hose on the ride bobby walks into town to see what s cooking is it needless of me to say that superior arizona is not exactly the shiny scrubbed home of all things lovely probably not bobby meets up with grace jennifer lopez who invites him back to her place for drape hanging and other domestic issues just as those issues are starting up grace s husband jake storms in looking like check out day of the elks lodge convention just beats bobby silly bobby takes to the road only to meet up with jake again and jake asks bobby to kill grace a little while later grace asks bobby to kill jake them murderous arizonians gotta love em if any of this sounds familiar congratulations you win a kewpie doll the story is a straight shoplift of red rock west a cult favorite a few years back from john dahl maker of the phenomenal the last seduction but the contest doesn t end there guys and gals we get steals from russ meyer movies where everybody in town is horny and sweaty we get the town from bad day at black rock minus the train plus busty women who can speak look at any schwarzenegger film and you ll see our hero bobby as bobby has a mudhole stomped in his keister a dozen times has his ribs stove in at least fifteen times gets bit by a tarantula gets shot at and ends up with vultures circling overhead all the while getting up like he just got a shaving nick bobby as terminator stretch it a bit and we have a five finger discount from doc hollywood where the whole story occurs because of car trouble forcing the main character to stay at the mercy of the town and the mechanic okay he s working from a book so maybe ollie s not totally to blame for blatantly copping these ideas i just expect a man who can make up an alternative history of the united states to be able to craft a few original ideas before exposing the negative i just wish he hadn t brought a cast like this together for what amounts to a group toe stub sean penn gives a great performance and jennifer lopez and nick nolte are as on target as they can be playing over the top caricatures of stereotype characters the best thing about the movie is watching penn react to the madness around him and try to figure out exactly what the blankety blank is going on too bad it s not fun to watch when it s happening to us while we sit through this mess of a film u turn is not a bad film if you re a fan of technique it s the oliver stone you ve always known robert richardson is his usual cinematographer and rob and ollie know how to shoot a flick great camera angles shifting viewpoints wicked colors nice looking pictures but pictures of what i think i d rather stare at a xeroxed envelope for two hours than try to figure out the tilt o whirl point of this loser film plot twists are one thing repetition is almost unforgivable and this is dang near as unforgivable as any movie i ve seen in the past five years oliver i know your body of work is nothing to sniff at you ve been nice enough to limit us to only one doors movie and films like platoon jfk wall street and nixon give us plenty to dig on your scripts are certainly respectable your budgets are up there on the screen and your actors don t dog it and i know that maybe with u turn you were just kicking back just having fun that s fine but don t do that with a movie with the potential of this one do some police academy sequel imagine that do a big comedy like a remake of it s a mad mad mad mad world but do not drop a limp u turn out of your pocket and expect us to accept it as an oliver stone movie and not question why it stinks like week old snook there s a right way to have fun and a wrong way to have fun this was as wrong as you can get without going to jail\n",
            "[611, 2152, 8, 485, 4, 1082, 422, 611, 233, 8, 1083, 2105, 2795, 1132, 122, 8, 1, 579, 19, 255, 24, 1, 82, 25, 5, 1413, 10, 1999, 627, 2, 220, 90, 148, 3, 101, 19, 255, 59, 131, 42, 223, 11, 5, 192, 10, 2, 2328, 6, 2, 1523, 204, 4, 397, 96, 250, 79, 19, 680, 1840, 19, 193, 69, 469, 5, 2796, 2, 2257, 58, 2, 216, 220, 56, 324, 5, 24, 2, 726, 220, 3, 56, 22, 290, 40, 2, 1496, 105, 45, 79, 19, 193, 69, 469, 5, 265, 2564, 2, 663, 3, 192, 80, 105, 2, 2895, 165, 104, 8, 5, 2153, 3, 403, 1053, 10, 19, 255, 23, 37, 327, 2986, 3, 85, 56, 55, 53, 22, 74, 37, 2447, 138, 7, 302, 2, 471, 40, 10, 3, 19, 193, 296, 2, 391, 497, 220, 1022, 12, 1, 1201, 51, 43, 385, 61, 29, 2, 1022, 45, 5, 1954, 1297, 13, 3, 76, 2709, 18, 1, 219, 6, 56, 30, 158, 2, 220, 90, 80, 142, 311, 56, 30, 193, 1065, 1219, 889, 13, 1189, 2, 252, 2106, 7, 2389, 33, 27, 7, 65, 254, 12, 1, 551, 90, 5, 52, 2154, 456, 33, 230, 1400, 1010, 18, 80, 29, 399, 96, 2638, 994, 170, 2328, 397, 1, 171, 185, 30, 80, 13, 2, 580, 3, 56, 30, 80, 117, 22, 87, 1, 361, 1414, 178, 919, 244, 515, 61, 9, 73, 96, 76, 64, 84, 19, 80, 29, 275, 5, 1054, 170, 745, 2033, 890, 30, 674, 348, 30, 1133, 2, 891, 31, 248, 688, 93, 700, 42, 30, 350, 14, 94, 417, 3, 1433, 5, 87, 9, 2, 26, 10, 8, 700, 95, 18, 165, 80, 29, 158, 2, 63, 66, 3, 2, 1055, 194, 3, 87, 25, 4, 1, 67, 1549, 3, 93, 4, 1, 1715, 19, 199, 54, 5, 581, 30, 25, 220, 42, 19, 53, 1245, 30, 2, 178, 30, 7, 1, 689, 3, 192, 46, 7, 1, 1716, 134, 4, 2155, 123, 30, 765, 12, 1082, 422, 3, 19, 255, 959, 41, 19, 74, 2, 776, 1583, 1038, 2390, 355, 1082, 422, 11, 1841, 2, 28, 8, 97, 52, 2, 89, 138, 17, 8, 1631, 1, 2511, 78, 47, 15, 2, 57, 7, 1415, 2156, 41, 23, 27, 4, 2, 393, 89, 1154, 2, 113, 20, 1, 1134, 1841, 2210, 58, 347, 5, 85, 46, 8, 6, 9, 4, 105, 5, 192, 10, 1415, 6, 29, 453, 1, 273, 4, 38, 162, 2211, 285, 29, 1841, 666, 45, 12, 1227, 1116, 28, 57, 138, 5, 37, 225, 13, 2391, 3, 76, 1401, 54, 11, 147, 1401, 21, 2107, 45, 1227, 8, 501, 2108, 7, 290, 40, 1877, 39, 220, 4, 1, 54, 1841, 889, 1841, 208, 5, 1, 1135, 60, 5, 581, 45, 12, 2108, 207, 3, 2108, 1179, 1841, 5, 429, 1227, 2, 94, 89, 335, 1227, 1179, 1841, 5, 429, 2108, 81, 129, 56, 96, 4, 14, 1084, 854, 30, 1136, 2, 1, 66, 6, 2, 776, 4, 766, 841, 935, 2, 1550, 846, 2, 141, 168, 138, 31, 186, 4, 1, 1, 173, 18, 1, 115, 22, 136, 41, 494, 3, 55, 74, 2329, 31, 2797, 127, 99, 1999, 7, 347, 6, 3, 55, 74, 1, 347, 31, 109, 220, 33, 279, 841, 1, 1066, 1775, 509, 28, 53, 1368, 178, 33, 96, 1740, 16, 3, 30, 255, 85, 243, 569, 1841, 11, 1841, 36, 2, 7, 15, 2, 2448, 244, 36, 15, 7, 33, 227, 2157, 244, 166, 252, 23, 2, 166, 389, 33, 3, 520, 45, 12, 38, 1, 89, 325, 45, 40, 17, 54, 296, 2, 1202, 1841, 11, 1922, 2796, 9, 2, 252, 3, 55, 34, 2, 486, 31, 260, 99, 1, 291, 66, 2109, 84, 4, 412, 804, 1, 362, 71, 5, 855, 33, 1, 4, 1, 347, 3, 1, 1132, 17, 8, 630, 31, 2, 417, 42, 418, 8, 29, 920, 5, 1717, 13, 112, 926, 19, 54, 722, 2, 104, 28, 53, 87, 45, 27, 681, 4, 1, 2212, 1842, 5, 24, 410, 5, 2, 141, 209, 926, 144, 1, 2710, 19, 54, 1103, 17, 22, 910, 2, 194, 40, 14, 280, 13, 46, 5, 2, 392, 1038, 2390, 269, 2, 124, 167, 3, 1116, 3, 1202, 21, 11, 20, 1584, 11, 35, 53, 24, 372, 103, 1, 351, 4, 77, 1, 116, 185, 44, 1, 26, 6, 297, 2390, 5, 1, 159, 57, 3, 473, 5, 727, 39, 453, 46, 1, 6, 163, 20, 95, 109, 9, 8, 29, 256, 5, 254, 47, 9, 8, 1955, 5, 137, 89, 55, 960, 126, 14, 809, 4, 2, 16, 1082, 422, 6, 29, 2, 109, 16, 56, 30, 128, 2, 1155, 4, 9, 8, 1, 2033, 890, 30, 193, 249, 469, 451, 6, 15, 805, 1776, 3, 1805, 3, 120, 100, 5, 1190, 2, 667, 124, 401, 2896, 2897, 391, 290, 1093, 18, 1093, 4, 46, 19, 174, 19, 233, 236, 33, 2, 13, 78, 606, 61, 473, 5, 727, 39, 1, 527, 219, 4, 14, 2449, 16, 91, 1156, 21, 25, 185, 6, 180, 3, 14, 6, 707, 11, 11, 96, 26, 19, 193, 154, 7, 1, 415, 486, 168, 2033, 19, 120, 170, 555, 4, 140, 6, 182, 5, 33, 30, 193, 69, 391, 156, 5, 137, 5, 60, 25, 2450, 26, 3, 93, 40, 1551, 951, 3, 265, 137, 1039, 5, 20, 170, 21, 373, 170, 21, 45, 41, 20, 1, 201, 3, 170, 212, 117, 22, 502, 9, 3, 19, 120, 10, 418, 12, 1082, 422, 30, 123, 54, 138, 54, 267, 256, 10, 8, 491, 18, 117, 22, 80, 10, 12, 2, 26, 12, 1, 790, 4, 14, 25, 80, 52, 631, 1416, 708, 1085, 10, 80, 2, 139, 169, 40, 2, 1524, 4, 9, 8, 2, 1497, 1497, 1497, 1497, 134, 18, 80, 29, 2258, 2, 1082, 422, 39, 4, 170, 3, 722, 137, 5, 1878, 9, 11, 27, 2033, 890, 26, 3, 29, 503, 164, 9, 40, 1298, 165, 41, 8, 2, 190, 86, 5, 34, 256, 3, 2, 365, 86, 5, 34, 256, 14, 32, 11, 365, 11, 30, 53, 74, 206, 163, 5, 1806]\n"
          ]
        },
        {
          "output_type": "execute_result",
          "data": {
            "text/plain": [
              "32621"
            ]
          },
          "metadata": {},
          "execution_count": 18
        }
      ]
    },
    {
      "cell_type": "code",
      "metadata": {
        "id": "5tZZ1pcNL7Tg"
      },
      "source": [
        "from keras.preprocessing.sequence import pad_sequences\n",
        "\n",
        "maxlen = 50\n",
        "\n",
        "X_train = pad_sequences(X_train, padding='post', maxlen=maxlen)\n",
        "X_test = pad_sequences(X_test, padding='post', maxlen=maxlen)"
      ],
      "execution_count": null,
      "outputs": []
    },
    {
      "cell_type": "code",
      "metadata": {
        "colab": {
          "base_uri": "https://localhost:8080/"
        },
        "id": "luNSZmkbpPdi",
        "outputId": "a0f825d7-66f6-4502-9fd1-f0c2b1b76cb1"
      },
      "source": [
        "X_test"
      ],
      "execution_count": null,
      "outputs": [
        {
          "output_type": "execute_result",
          "data": {
            "text/plain": [
              "array([[ 487,   72,   70, ...,    9,   73,   87],\n",
              "       [ 301,   59,   43, ...,    5,  136,    7],\n",
              "       [ 389,  145,   23, ...,  101,   74,  105],\n",
              "       ...,\n",
              "       [ 642,    5,    1, ...,    7,    1,  157],\n",
              "       [   5,    2, 1573, ...,   25,  172, 1053],\n",
              "       [  56,   10,    8, ...,    1,  436,  493]], dtype=int32)"
            ]
          },
          "metadata": {},
          "execution_count": 20
        }
      ]
    },
    {
      "cell_type": "markdown",
      "metadata": {
        "id": "FcSeQCaFGSEU"
      },
      "source": [
        "defining CNN sequential model"
      ]
    },
    {
      "cell_type": "code",
      "metadata": {
        "id": "Y_vkvZMtL7Th"
      },
      "source": [
        "def cnn_text_classifier():\n",
        "    embedding_dim = 50\n",
        "\n",
        "    model = Sequential()\n",
        "    model.add(layers.Embedding(vocab_size, embedding_dim, input_length=maxlen)) \n",
        "    model.add(layers.Conv1D(128, 5, activation='relu')) \n",
        "    model.add(layers.GlobalMaxPooling1D())\n",
        "    model.add(layers.Dense(10, activation='relu'))\n",
        "    model.add(layers.Dense(1, activation='sigmoid'))\n",
        "    model.compile(optimizer='adam', loss='binary_crossentropy', metrics=['accuracy'])\n",
        "    model.summary()\n",
        "    return model\n",
        "    "
      ],
      "execution_count": null,
      "outputs": []
    },
    {
      "cell_type": "markdown",
      "metadata": {
        "id": "FtT9Rz5wgpnJ"
      },
      "source": [
        "Training the Model "
      ]
    },
    {
      "cell_type": "code",
      "metadata": {
        "colab": {
          "base_uri": "https://localhost:8080/"
        },
        "id": "VaJ3NrNPL7Ti",
        "outputId": "4df23872-dab2-4cad-aa92-579df8b61ab5"
      },
      "source": [
        "model = cnn_text_classifier()\n",
        "training = model.fit(X_train, y_train, epochs=50, verbose=False, validation_data=(X_test, y_test), batch_size=10)\n"
      ],
      "execution_count": null,
      "outputs": [
        {
          "output_type": "stream",
          "name": "stdout",
          "text": [
            "Model: \"sequential\"\n",
            "_________________________________________________________________\n",
            " Layer (type)                Output Shape              Param #   \n",
            "=================================================================\n",
            " embedding (Embedding)       (None, 50, 50)            1631050   \n",
            "                                                                 \n",
            " conv1d (Conv1D)             (None, 46, 128)           32128     \n",
            "                                                                 \n",
            " global_max_pooling1d (Globa  (None, 128)              0         \n",
            " lMaxPooling1D)                                                  \n",
            "                                                                 \n",
            " dense (Dense)               (None, 10)                1290      \n",
            "                                                                 \n",
            " dense_1 (Dense)             (None, 1)                 11        \n",
            "                                                                 \n",
            "=================================================================\n",
            "Total params: 1,664,479\n",
            "Trainable params: 1,664,479\n",
            "Non-trainable params: 0\n",
            "_________________________________________________________________\n"
          ]
        }
      ]
    },
    {
      "cell_type": "code",
      "metadata": {
        "id": "jT5JeSrisz-3"
      },
      "source": [
        "history\n"
      ],
      "execution_count": null,
      "outputs": []
    },
    {
      "cell_type": "markdown",
      "metadata": {
        "id": "0rZLcVgqgyCj"
      },
      "source": [
        "Evaluating the model "
      ]
    },
    {
      "cell_type": "code",
      "metadata": {
        "colab": {
          "base_uri": "https://localhost:8080/"
        },
        "id": "Q6fpI8aYL7Ti",
        "outputId": "cd3e2b12-1fe5-4c1d-f238-8fd82634bf06"
      },
      "source": [
        "loss, accuracy = model.evaluate(X_train, y_train, verbose=False)\n",
        "print(\"Training Accuracy: {:.4f}\".format(accuracy))\n",
        "loss, accuracy = model.evaluate(X_test, y_test, verbose=False)\n",
        "print(\"Testing Accuracy:  {:.4f}\".format(accuracy))\n"
      ],
      "execution_count": null,
      "outputs": [
        {
          "output_type": "stream",
          "name": "stdout",
          "text": [
            "Training Accuracy: 0.9992\n",
            "Testing Accuracy:  0.6705\n"
          ]
        }
      ]
    },
    {
      "cell_type": "code",
      "metadata": {
        "id": "KC6hZDi9L7Tj"
      },
      "source": [
        "import matplotlib.pyplot as plt\n",
        "plt.style.use('ggplot')\n",
        "\n",
        "def plot_history(training):\n",
        "    acc = training.history['accuracy']\n",
        "    val_acc = training.history['val_accuracy']\n",
        "    loss = training.history['loss']\n",
        "    val_loss = training.history['val_loss']\n",
        "    x = range(1, len(acc) + 1)\n",
        "\n",
        "    plt.figure(figsize=(14, 8))\n",
        "    plt.subplot(1, 2, 2)\n",
        "    plt.plot(x, acc, 'b', label='Training acc')\n",
        "    plt.plot(x, val_acc, 'r', label='Validation acc')\n",
        "    plt.title('Training and validation accuracy')\n",
        "    plt.legend()\n",
        "    plt.subplot(1, 2, 2)\n",
        "    plt.plot(x, loss, 'b', label='Training loss')\n",
        "    plt.plot(x, val_loss, 'r', label='Validation loss')\n",
        "    plt.title('Training and validation loss')\n",
        "    plt.legend()"
      ],
      "execution_count": null,
      "outputs": []
    },
    {
      "cell_type": "code",
      "metadata": {
        "id": "lIF76JqUL7Tj",
        "colab": {
          "base_uri": "https://localhost:8080/",
          "height": 537
        },
        "outputId": "59cce0a7-9ca8-45c7-e904-ad0ec1e5cb04"
      },
      "source": [
        "plot_history(training)"
      ],
      "execution_count": null,
      "outputs": [
        {
          "output_type": "stream",
          "name": "stderr",
          "text": [
            "/usr/local/lib/python3.7/dist-packages/ipykernel_launcher.py:17: MatplotlibDeprecationWarning: Adding an axes using the same arguments as a previous axes currently reuses the earlier instance.  In a future version, a new instance will always be created and returned.  Meanwhile, this warning can be suppressed, and the future behavior ensured, by passing a unique label to each axes instance.\n"
          ]
        },
        {
          "output_type": "display_data",
          "data": {
            "image/png": "[encoded data removed]",
            "text/plain": [
              "<Figure size 1008x576 with 1 Axes>"
            ]
          },
          "metadata": {}
        }
      ]
    },
    {
      "cell_type": "code",
      "metadata": {
        "id": "OBaUm5lSn-jP"
      },
      "source": [
        "# We store the reviews and labels in two arrays as follows:\n",
        "x = df_test['review'].values\n",
        "y = df_test['label'].values"
      ],
      "execution_count": null,
      "outputs": []
    },
    {
      "cell_type": "code",
      "metadata": {
        "id": "Q12YWoQwfnv_"
      },
      "source": [
        "x"
      ],
      "execution_count": null,
      "outputs": []
    },
    {
      "cell_type": "code",
      "metadata": {
        "id": "QCEb3fq7KZqT"
      },
      "source": [
        "y"
      ],
      "execution_count": null,
      "outputs": []
    },
    {
      "cell_type": "code",
      "metadata": {
        "colab": {
          "base_uri": "https://localhost:8080/"
        },
        "id": "HdxiLMVXLCwT",
        "outputId": "e0a9cda4-e6c2-41c0-9b95-49bfded4febb"
      },
      "source": [
        "df_test.shape"
      ],
      "execution_count": null,
      "outputs": [
        {
          "output_type": "execute_result",
          "data": {
            "text/plain": [
              "(400, 2)"
            ]
          },
          "metadata": {},
          "execution_count": 35
        }
      ]
    },
    {
      "cell_type": "code",
      "metadata": {
        "id": "Gi4fyU-VQR8p"
      },
      "source": [
        "tokenizer1 = Tokenizer(num_words=3000) # num_words most  frequent words is returned\n",
        "\n",
        "\n",
        "tokenizer.fit_on_texts(x)\n",
        "\n",
        "\n",
        "xt = tokenizer.texts_to_sequences(x)\n",
        "\n",
        "vocab_size = len(tokenizer.word_index) + 1"
      ],
      "execution_count": null,
      "outputs": []
    },
    {
      "cell_type": "code",
      "metadata": {
        "colab": {
          "base_uri": "https://localhost:8080/"
        },
        "id": "yUVWUWqSR0ZO",
        "outputId": "2bd8a606-d5a5-48ad-f281-82e157834cab"
      },
      "source": [
        "print(xt[0])\n",
        "print(xt[0])\n",
        "vocab_size"
      ],
      "execution_count": null,
      "outputs": [
        {
          "output_type": "stream",
          "name": "stdout",
          "text": [
            "[591, 177, 6, 2, 2194, 559, 774, 1673, 2933, 2906, 3, 1732, 8, 1986, 12, 37, 1, 1320, 287, 130, 574, 3, 1, 1061, 4, 1, 16, 6, 2, 347, 408, 1140, 9, 2854, 4, 116, 3, 3, 20, 1, 72, 365, 764, 22, 1, 313, 1, 16, 828, 53, 145, 1, 548, 4, 2, 31, 1, 2651, 229, 328, 9, 6, 126, 8, 56, 657, 37, 4, 1, 1903, 82, 329, 706, 571, 1824, 3, 488, 1247, 3, 1, 656, 363, 1328, 625, 587, 56, 81, 83, 8, 37, 4, 1, 577, 21, 12, 1, 2959, 17, 560, 45, 61, 1328, 440, 1, 81, 4, 1, 16, 56, 83, 94, 230, 1328, 66, 127, 5, 76, 706, 324, 52, 57, 4, 2867, 84, 88, 8, 706, 36, 10, 78, 15, 287, 316, 2866, 5, 515, 31, 193, 324, 706, 6, 221, 1, 1328, 285, 2, 4, 94, 706, 36, 142, 9, 6, 378, 2206, 22, 8, 706, 106, 359, 4, 1, 577, 9, 33, 37, 2, 821, 381, 1, 84, 706, 6, 316, 706, 2, 80, 1042, 4, 1377, 7, 508, 13, 57, 27, 5, 36, 9, 6, 104, 2206, 8, 706, 1328, 3, 123, 37, 7, 20, 9, 258, 9, 6, 126, 8, 1, 16, 448, 5, 1959, 53, 28, 6, 113, 1655, 12, 200, 72, 3, 28, 34, 49, 179, 1701, 1673, 2933, 333, 10, 706, 706, 6, 1, 252, 4, 210, 8, 152, 266, 68, 40, 5, 49, 58, 3, 706, 576, 498, 9, 3, 724, 9, 5, 14, 179, 2943, 18, 429, 1, 507, 110, 4, 218, 17, 2933, 91, 248, 2, 953, 151, 142, 14, 1366, 247, 5, 23, 686, 1, 136, 4, 1, 16, 238, 9, 178, 10, 147, 14, 73, 34, 340, 37, 4, 14, 3, 182, 18, 106, 95, 116, 5, 436, 41, 12, 7, 1, 81, 244, 1732, 28, 65, 103, 5, 530, 3, 530, 310, 191, 1140, 576, 34, 51, 628, 1320, 5, 696, 12, 50, 21, 507, 30, 36, 81, 109, 7, 1, 16, 1732, 6, 80, 731, 12, 15, 73, 2972, 1, 246, 4, 969, 5, 2, 1238, 73, 3, 238, 36, 239, 5, 237, 384, 1328, 625, 587, 6, 2906, 1328, 6, 166, 1094, 764, 1943, 363, 28, 1039, 52, 55, 32, 92, 112, 52, 40, 36, 316, 2866, 24, 4, 1, 65, 227, 177, 42, 15, 16, 6, 94, 9, 3, 1, 370, 146, 1328, 3, 36, 316, 2906, 135, 1127, 90, 1, 1987, 30, 1648, 1433, 285, 1, 65, 227, 151, 7, 1, 345, 16, 7, 1, 548, 1328, 294, 5, 23, 2, 2706, 1248, 73, 17, 1222, 2, 100, 45, 1508, 3, 999, 139, 1, 73, 27, 62, 1943, 17, 10, 78, 431, 2349, 285, 24, 4, 14, 1342, 302, 10, 1824, 15, 73, 294, 5, 23, 24, 4, 1, 65, 512, 817, 7, 1, 16, 142, 9, 6, 2, 370, 2206, 146, 57, 3, 8, 1222, 1117, 5, 14, 69, 135, 1, 16, 295, 247, 5, 2669, 71, 30, 151, 62, 14, 360, 7, 1, 482, 197, 1375, 191, 1, 71, 2866, 625, 587, 285, 25, 151, 10, 603, 3, 925, 2585, 10, 1146, 90, 5, 2585, 13, 2972, 1, 401, 1271, 4, 164, 5, 1, 16, 182, 591, 177, 33, 22, 1, 1987, 10, 113, 25, 2340, 559, 1, 50, 6, 1708, 12, 63, 2057, 6, 1499, 5, 2, 3, 2332, 45, 20, 1, 101, 3, 1, 1447, 146, 1, 82, 15, 6, 501, 2, 80, 63, 16, 437, 424, 54, 166, 282, 13, 2, 26, 12, 2, 101, 794, 12, 111, 1258, 4, 1321]\n",
            "[591, 177, 6, 2, 2194, 559, 774, 1673, 2933, 2906, 3, 1732, 8, 1986, 12, 37, 1, 1320, 287, 130, 574, 3, 1, 1061, 4, 1, 16, 6, 2, 347, 408, 1140, 9, 2854, 4, 116, 3, 3, 20, 1, 72, 365, 764, 22, 1, 313, 1, 16, 828, 53, 145, 1, 548, 4, 2, 31, 1, 2651, 229, 328, 9, 6, 126, 8, 56, 657, 37, 4, 1, 1903, 82, 329, 706, 571, 1824, 3, 488, 1247, 3, 1, 656, 363, 1328, 625, 587, 56, 81, 83, 8, 37, 4, 1, 577, 21, 12, 1, 2959, 17, 560, 45, 61, 1328, 440, 1, 81, 4, 1, 16, 56, 83, 94, 230, 1328, 66, 127, 5, 76, 706, 324, 52, 57, 4, 2867, 84, 88, 8, 706, 36, 10, 78, 15, 287, 316, 2866, 5, 515, 31, 193, 324, 706, 6, 221, 1, 1328, 285, 2, 4, 94, 706, 36, 142, 9, 6, 378, 2206, 22, 8, 706, 106, 359, 4, 1, 577, 9, 33, 37, 2, 821, 381, 1, 84, 706, 6, 316, 706, 2, 80, 1042, 4, 1377, 7, 508, 13, 57, 27, 5, 36, 9, 6, 104, 2206, 8, 706, 1328, 3, 123, 37, 7, 20, 9, 258, 9, 6, 126, 8, 1, 16, 448, 5, 1959, 53, 28, 6, 113, 1655, 12, 200, 72, 3, 28, 34, 49, 179, 1701, 1673, 2933, 333, 10, 706, 706, 6, 1, 252, 4, 210, 8, 152, 266, 68, 40, 5, 49, 58, 3, 706, 576, 498, 9, 3, 724, 9, 5, 14, 179, 2943, 18, 429, 1, 507, 110, 4, 218, 17, 2933, 91, 248, 2, 953, 151, 142, 14, 1366, 247, 5, 23, 686, 1, 136, 4, 1, 16, 238, 9, 178, 10, 147, 14, 73, 34, 340, 37, 4, 14, 3, 182, 18, 106, 95, 116, 5, 436, 41, 12, 7, 1, 81, 244, 1732, 28, 65, 103, 5, 530, 3, 530, 310, 191, 1140, 576, 34, 51, 628, 1320, 5, 696, 12, 50, 21, 507, 30, 36, 81, 109, 7, 1, 16, 1732, 6, 80, 731, 12, 15, 73, 2972, 1, 246, 4, 969, 5, 2, 1238, 73, 3, 238, 36, 239, 5, 237, 384, 1328, 625, 587, 6, 2906, 1328, 6, 166, 1094, 764, 1943, 363, 28, 1039, 52, 55, 32, 92, 112, 52, 40, 36, 316, 2866, 24, 4, 1, 65, 227, 177, 42, 15, 16, 6, 94, 9, 3, 1, 370, 146, 1328, 3, 36, 316, 2906, 135, 1127, 90, 1, 1987, 30, 1648, 1433, 285, 1, 65, 227, 151, 7, 1, 345, 16, 7, 1, 548, 1328, 294, 5, 23, 2, 2706, 1248, 73, 17, 1222, 2, 100, 45, 1508, 3, 999, 139, 1, 73, 27, 62, 1943, 17, 10, 78, 431, 2349, 285, 24, 4, 14, 1342, 302, 10, 1824, 15, 73, 294, 5, 23, 24, 4, 1, 65, 512, 817, 7, 1, 16, 142, 9, 6, 2, 370, 2206, 146, 57, 3, 8, 1222, 1117, 5, 14, 69, 135, 1, 16, 295, 247, 5, 2669, 71, 30, 151, 62, 14, 360, 7, 1, 482, 197, 1375, 191, 1, 71, 2866, 625, 587, 285, 25, 151, 10, 603, 3, 925, 2585, 10, 1146, 90, 5, 2585, 13, 2972, 1, 401, 1271, 4, 164, 5, 1, 16, 182, 591, 177, 33, 22, 1, 1987, 10, 113, 25, 2340, 559, 1, 50, 6, 1708, 12, 63, 2057, 6, 1499, 5, 2, 3, 2332, 45, 20, 1, 101, 3, 1, 1447, 146, 1, 82, 15, 6, 501, 2, 80, 63, 16, 437, 424, 54, 166, 282, 13, 2, 26, 12, 2, 101, 794, 12, 111, 1258, 4, 1321]\n"
          ]
        },
        {
          "output_type": "execute_result",
          "data": {
            "text/plain": [
              "37933"
            ]
          },
          "metadata": {},
          "execution_count": 102
        }
      ]
    },
    {
      "cell_type": "code",
      "metadata": {
        "id": "T0r6GubAX4FF"
      },
      "source": [
        "from keras.preprocessing.sequence import pad_sequences\n",
        "\n",
        "maxlen = 50\n",
        "\n",
        "X_train = pad_sequences(X_train, padding='post', maxlen=maxlen)\n",
        "xt1 = pad_sequences(xt, padding='post', maxlen=maxlen)"
      ],
      "execution_count": null,
      "outputs": []
    },
    {
      "cell_type": "code",
      "metadata": {
        "colab": {
          "base_uri": "https://localhost:8080/"
        },
        "id": "ezv9-5PgXlYV",
        "outputId": "76579afe-c9ca-4afe-f5d0-0e4741eed99f"
      },
      "source": [
        "xt1"
      ],
      "execution_count": null,
      "outputs": [
        {
          "output_type": "execute_result",
          "data": {
            "text/plain": [
              "array([[  25, 2340,  559, ..., 1258,    4, 1321],\n",
              "       [   2,  679,    1, ...,   22,  876,   16],\n",
              "       [  42,   17,   46, ...,   27,  234,  188],\n",
              "       ...,\n",
              "       [   5,  371,    9, ...,  107,   26,  205],\n",
              "       [   4,    1,  533, ...,  446, 1882,  257],\n",
              "       [   8,    4,    1, ...,   42,    9, 1143]], dtype=int32)"
            ]
          },
          "metadata": {},
          "execution_count": 104
        }
      ]
    },
    {
      "cell_type": "code",
      "metadata": {
        "id": "AnMSJ_nEoXb8"
      },
      "source": [
        "predictions = model.predict(xt1, batch_size=10)"
      ],
      "execution_count": null,
      "outputs": []
    },
    {
      "cell_type": "code",
      "metadata": {
        "id": "tGqn1GHENtno"
      },
      "source": [
        " predictions"
      ],
      "execution_count": null,
      "outputs": []
    },
    {
      "cell_type": "code",
      "metadata": {
        "colab": {
          "base_uri": "https://localhost:8080/"
        },
        "id": "rZsHKq-aG3J0",
        "outputId": "5d2ddfe4-9562-4ad5-81d3-ce01f139bbbf"
      },
      "source": [
        "loss, accuracy = model.evaluate(xt1, y, verbose=False)\n",
        "print(\"Testing Accuracy with new fresh data:  {:.4f}\".format(accuracy))"
      ],
      "execution_count": null,
      "outputs": [
        {
          "output_type": "stream",
          "name": "stdout",
          "text": [
            "Testing Accuracy with new fresh data:  0.5525\n"
          ]
        }
      ]
    }
  ]
}